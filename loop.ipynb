{
  "nbformat": 4,
  "nbformat_minor": 0,
  "metadata": {
    "colab": {
      "name": "loop.ipynb",
      "provenance": [],
      "authorship_tag": "ABX9TyPklYxaMlonZL9QVhHpW0OC",
      "include_colab_link": true
    },
    "kernelspec": {
      "name": "python3",
      "display_name": "Python 3"
    },
    "language_info": {
      "name": "python"
    }
  },
  "cells": [
    {
      "cell_type": "markdown",
      "metadata": {
        "id": "view-in-github",
        "colab_type": "text"
      },
      "source": [
        "<a href=\"https://colab.research.google.com/github/pushyag1/Python/blob/main/loop.ipynb\" target=\"_parent\"><img src=\"https://colab.research.google.com/assets/colab-badge.svg\" alt=\"Open In Colab\"/></a>"
      ]
    },
    {
      "cell_type": "code",
      "metadata": {
        "id": "iMglm2Lb2uSB"
      },
      "source": [
        "numbers=[1,2,3,4,5]"
      ],
      "execution_count": 1,
      "outputs": []
    },
    {
      "cell_type": "code",
      "metadata": {
        "colab": {
          "base_uri": "https://localhost:8080/"
        },
        "id": "smL8llfh20fr",
        "outputId": "cd7b0a5a-8c18-4837-e5a3-13ada8989269"
      },
      "source": [
        "for n in numbers:\n",
        "  if n%2==0:\n",
        "    print(\"even\", n)\n",
        "  else:\n",
        "    print(\"no\")"
      ],
      "execution_count": 15,
      "outputs": [
        {
          "output_type": "stream",
          "text": [
            "no\n",
            "even 2\n",
            "no\n",
            "even 4\n",
            "no\n"
          ],
          "name": "stdout"
        }
      ]
    },
    {
      "cell_type": "code",
      "metadata": {
        "colab": {
          "base_uri": "https://localhost:8080/"
        },
        "id": "YJ7cpHVB294a",
        "outputId": "eda88208-b925-437b-97a3-b564942536ff"
      },
      "source": [
        "for n in numbers:\n",
        "  if n%2==0:\n",
        "    print(\"even\", n)\n",
        "else:\n",
        "  print(\"no\")"
      ],
      "execution_count": 3,
      "outputs": [
        {
          "output_type": "stream",
          "text": [
            "even 2\n",
            "even 4\n",
            "no\n"
          ],
          "name": "stdout"
        }
      ]
    },
    {
      "cell_type": "code",
      "metadata": {
        "colab": {
          "base_uri": "https://localhost:8080/"
        },
        "id": "BgrX9jOe3P8o",
        "outputId": "e06f3506-8a58-4b10-d4c9-f97b53be7577"
      },
      "source": [
        "for n in numbers:\n",
        "  if n%2==0:\n",
        "    print(\"even\", n)\n",
        "    break\n",
        "else:\n",
        "  print(\"no\")"
      ],
      "execution_count": 4,
      "outputs": [
        {
          "output_type": "stream",
          "text": [
            "even 2\n"
          ],
          "name": "stdout"
        }
      ]
    },
    {
      "cell_type": "code",
      "metadata": {
        "colab": {
          "base_uri": "https://localhost:8080/"
        },
        "id": "M7Epa8et36s2",
        "outputId": "c7cdafeb-cd1d-47f2-bdd4-a4f56c0f260a"
      },
      "source": [
        "for n in numbers:\n",
        "  if n%2==0:\n",
        "    print(\"even\", n)\n"
      ],
      "execution_count": 5,
      "outputs": [
        {
          "output_type": "stream",
          "text": [
            "even 2\n",
            "even 4\n"
          ],
          "name": "stdout"
        }
      ]
    },
    {
      "cell_type": "code",
      "metadata": {
        "colab": {
          "base_uri": "https://localhost:8080/"
        },
        "id": "1m5nAuOh4DSe",
        "outputId": "f2f1850e-3648-4d17-e650-bfd3ee9ad962"
      },
      "source": [
        "n=4\n",
        "if n%2==0:\n",
        "  print(\"even\", n)\n",
        "else:\n",
        "  print(\"no\")"
      ],
      "execution_count": 11,
      "outputs": [
        {
          "output_type": "stream",
          "text": [
            "even 4\n"
          ],
          "name": "stdout"
        }
      ]
    },
    {
      "cell_type": "code",
      "metadata": {
        "colab": {
          "base_uri": "https://localhost:8080/"
        },
        "id": "XvN3KM-v5rcn",
        "outputId": "0201cd8a-902b-4266-96af-00371c82643e"
      },
      "source": [
        "n=1\n",
        "while n%2==0:\n",
        "  print(\"yes\")\n",
        "print(\"no\")"
      ],
      "execution_count": 13,
      "outputs": [
        {
          "output_type": "stream",
          "text": [
            "no\n"
          ],
          "name": "stdout"
        }
      ]
    },
    {
      "cell_type": "code",
      "metadata": {
        "id": "ClQk2ytJ57HH"
      },
      "source": [
        ""
      ],
      "execution_count": null,
      "outputs": []
    }
  ]
}