{
  "nbformat": 4,
  "nbformat_minor": 0,
  "metadata": {
    "colab": {
      "name": "Python_prac2.ipynb",
      "provenance": [],
      "authorship_tag": "ABX9TyPf/GQOJkv4YqoRjlsJKJ5S",
      "include_colab_link": true
    },
    "kernelspec": {
      "name": "python3",
      "display_name": "Python 3"
    },
    "language_info": {
      "name": "python"
    }
  },
  "cells": [
    {
      "cell_type": "markdown",
      "metadata": {
        "id": "view-in-github",
        "colab_type": "text"
      },
      "source": [
        "<a href=\"https://colab.research.google.com/github/pushyag1/Python/blob/main/Python_prac2.ipynb\" target=\"_parent\"><img src=\"https://colab.research.google.com/assets/colab-badge.svg\" alt=\"Open In Colab\"/></a>"
      ]
    },
    {
      "cell_type": "code",
      "metadata": {
        "id": "3jzTECl-0Hkp"
      },
      "source": [
        "list1=['aaa','bbb','ccc']\n",
        "list2=['ddd','eee','fff']"
      ],
      "execution_count": null,
      "outputs": []
    },
    {
      "cell_type": "code",
      "metadata": {
        "id": "YVZq49Id0OI9"
      },
      "source": [
        "list1.extend(list2)"
      ],
      "execution_count": null,
      "outputs": []
    },
    {
      "cell_type": "code",
      "metadata": {
        "colab": {
          "base_uri": "https://localhost:8080/"
        },
        "id": "CO1gXptZ0S-Y",
        "outputId": "306fc9e1-d59d-406a-ca66-905b77df8112"
      },
      "source": [
        "list1"
      ],
      "execution_count": null,
      "outputs": [
        {
          "output_type": "execute_result",
          "data": {
            "text/plain": [
              "['aaa', 'bbb', 'ccc', 'ddd', 'eee', 'fff']"
            ]
          },
          "metadata": {
            "tags": []
          },
          "execution_count": 15
        }
      ]
    },
    {
      "cell_type": "code",
      "metadata": {
        "id": "T_HNMhRV0UDH"
      },
      "source": [
        "list1.append('xxx')"
      ],
      "execution_count": null,
      "outputs": []
    },
    {
      "cell_type": "code",
      "metadata": {
        "colab": {
          "base_uri": "https://localhost:8080/"
        },
        "id": "j4Jvf2ka0rId",
        "outputId": "4faa1860-2d68-4b75-e8ef-3cbd847cb8c2"
      },
      "source": [
        "list1"
      ],
      "execution_count": null,
      "outputs": [
        {
          "output_type": "execute_result",
          "data": {
            "text/plain": [
              "['aaa', 'bbb', 'ccc', 'ddd']"
            ]
          },
          "metadata": {
            "tags": []
          },
          "execution_count": 29
        }
      ]
    },
    {
      "cell_type": "code",
      "metadata": {
        "id": "XKD_8bh20we9"
      },
      "source": [
        "list1.insert(1,'qqq')"
      ],
      "execution_count": null,
      "outputs": []
    },
    {
      "cell_type": "code",
      "metadata": {
        "id": "m5Pqnp6H1qy0"
      },
      "source": [
        "list1.remove('qqq')"
      ],
      "execution_count": null,
      "outputs": []
    },
    {
      "cell_type": "code",
      "metadata": {
        "colab": {
          "base_uri": "https://localhost:8080/",
          "height": 35
        },
        "id": "SuNLBc251152",
        "outputId": "1d32af93-e4b0-4bdc-ce1b-fca0b81bb1f9"
      },
      "source": [
        "list1.pop() #removes last element"
      ],
      "execution_count": null,
      "outputs": [
        {
          "output_type": "execute_result",
          "data": {
            "application/vnd.google.colaboratory.intrinsic+json": {
              "type": "string"
            },
            "text/plain": [
              "'eee'"
            ]
          },
          "metadata": {
            "tags": []
          },
          "execution_count": 27
        }
      ]
    },
    {
      "cell_type": "code",
      "metadata": {
        "colab": {
          "base_uri": "https://localhost:8080/"
        },
        "id": "K7-uI0Dd2I4S",
        "outputId": "a8121289-3718-4780-d15b-bdc6fab3017a"
      },
      "source": [
        "list1.count('aaa')"
      ],
      "execution_count": null,
      "outputs": [
        {
          "output_type": "execute_result",
          "data": {
            "text/plain": [
              "1"
            ]
          },
          "metadata": {
            "tags": []
          },
          "execution_count": 30
        }
      ]
    },
    {
      "cell_type": "code",
      "metadata": {
        "id": "sNQ-9q3I2b6M"
      },
      "source": [
        "list_numbers = [1,6,78,99,45,6,0]"
      ],
      "execution_count": null,
      "outputs": []
    },
    {
      "cell_type": "code",
      "metadata": {
        "id": "-QvAhOMpxA2q"
      },
      "source": [
        "list_numbers.sort()"
      ],
      "execution_count": null,
      "outputs": []
    },
    {
      "cell_type": "code",
      "metadata": {
        "colab": {
          "base_uri": "https://localhost:8080/"
        },
        "id": "OnHrtfRkxDBt",
        "outputId": "5ad575b5-d215-4eeb-b06e-886ad5b742d1"
      },
      "source": [
        "list_numbers"
      ],
      "execution_count": null,
      "outputs": [
        {
          "output_type": "execute_result",
          "data": {
            "text/plain": [
              "[0, 6, 45, 99, 78, 6, 1]"
            ]
          },
          "metadata": {
            "tags": []
          },
          "execution_count": 14
        }
      ]
    },
    {
      "cell_type": "code",
      "metadata": {
        "id": "AvkJSTsKxF5m"
      },
      "source": [
        "list_numbers.reverse()"
      ],
      "execution_count": null,
      "outputs": []
    },
    {
      "cell_type": "code",
      "metadata": {
        "id": "HxQMvbqdxijf"
      },
      "source": [
        "def say_hi():\n",
        "  print(\"hellooo\")"
      ],
      "execution_count": null,
      "outputs": []
    },
    {
      "cell_type": "code",
      "metadata": {
        "colab": {
          "base_uri": "https://localhost:8080/"
        },
        "id": "mMzJalG31C8l",
        "outputId": "2be7c5e4-86bb-4e0c-ac08-6e75932f4897"
      },
      "source": [
        "say_hi()"
      ],
      "execution_count": null,
      "outputs": [
        {
          "output_type": "stream",
          "text": [
            "hellooo\n"
          ],
          "name": "stdout"
        }
      ]
    },
    {
      "cell_type": "code",
      "metadata": {
        "id": "2vXZo1yL1ElF"
      },
      "source": [
        "def say_hi(name):\n",
        "  print(\"hellooo \"+name)"
      ],
      "execution_count": null,
      "outputs": []
    },
    {
      "cell_type": "code",
      "metadata": {
        "colab": {
          "base_uri": "https://localhost:8080/"
        },
        "id": "woz0mUxC1MAF",
        "outputId": "07a19126-0177-49b1-b554-880b632263f9"
      },
      "source": [
        "say_hi(\"pushya\")\n",
        "say_hi(\"tunny\")"
      ],
      "execution_count": null,
      "outputs": [
        {
          "output_type": "stream",
          "text": [
            "hellooo pushya\n",
            "hellooo tunny\n"
          ],
          "name": "stdout"
        }
      ]
    },
    {
      "cell_type": "code",
      "metadata": {
        "id": "o9BHhA_81PNK"
      },
      "source": [
        "def say(name, age):\n",
        "  print(\"hello \"+name + \" you are\" + str(age))"
      ],
      "execution_count": null,
      "outputs": []
    },
    {
      "cell_type": "code",
      "metadata": {
        "colab": {
          "base_uri": "https://localhost:8080/"
        },
        "id": "8dfbgGev2Qgj",
        "outputId": "13bf6cb9-812f-42a1-b7c8-6b1774bf0fd0"
      },
      "source": [
        "say(\"tunny\", 26)"
      ],
      "execution_count": null,
      "outputs": [
        {
          "output_type": "stream",
          "text": [
            "hello tunny you are26\n"
          ],
          "name": "stdout"
        }
      ]
    },
    {
      "cell_type": "code",
      "metadata": {
        "id": "jxerdBSV2Tlz"
      },
      "source": [
        "def numb(num):\n",
        "  number = num*((2*num)-3)\n",
        "  return number"
      ],
      "execution_count": null,
      "outputs": []
    },
    {
      "cell_type": "code",
      "metadata": {
        "colab": {
          "base_uri": "https://localhost:8080/"
        },
        "id": "3tRfO0XU4K7R",
        "outputId": "04f92fe1-1358-4aa3-a07f-92425b187f91"
      },
      "source": [
        "numb(5)"
      ],
      "execution_count": null,
      "outputs": [
        {
          "output_type": "execute_result",
          "data": {
            "text/plain": [
              "35"
            ]
          },
          "metadata": {
            "tags": []
          },
          "execution_count": 40
        }
      ]
    },
    {
      "cell_type": "code",
      "metadata": {
        "colab": {
          "base_uri": "https://localhost:8080/"
        },
        "id": "q1EddRZj4MU0",
        "outputId": "1ecb8415-1d4d-4409-c55b-a0a2fbd028ec"
      },
      "source": [
        "female = False\n",
        "tall = True\n",
        "\n",
        "if female and tall:\n",
        "  print(\"tall female\")\n",
        "elif female and not (tall):\n",
        "  print(\"short female\")\n",
        "elif not (female) and tall:\n",
        "  print(\"tall male\")\n",
        "else:\n",
        "  print('short male')"
      ],
      "execution_count": null,
      "outputs": [
        {
          "output_type": "stream",
          "text": [
            "tall male\n"
          ],
          "name": "stdout"
        }
      ]
    },
    {
      "cell_type": "code",
      "metadata": {
        "id": "X7tnD6NI_99E"
      },
      "source": [
        "def max_number(n1,n2,n3):\n",
        "  if n1>=n2 and n1>=n3:\n",
        "    return n1\n",
        "  elif n2>=n1 and n2>=n3:\n",
        "    return n2\n",
        "  else:\n",
        "    return n3"
      ],
      "execution_count": null,
      "outputs": []
    },
    {
      "cell_type": "code",
      "metadata": {
        "colab": {
          "base_uri": "https://localhost:8080/"
        },
        "id": "9JrbKZdtBmmY",
        "outputId": "48512f89-e52a-4524-bbb5-c8a0ceeb17f8"
      },
      "source": [
        "max_number(1000,200,3000)"
      ],
      "execution_count": null,
      "outputs": [
        {
          "output_type": "execute_result",
          "data": {
            "text/plain": [
              "3000"
            ]
          },
          "metadata": {
            "tags": []
          },
          "execution_count": 48
        }
      ]
    },
    {
      "cell_type": "code",
      "metadata": {
        "id": "DME4h57WBo1u"
      },
      "source": [
        ""
      ],
      "execution_count": null,
      "outputs": []
    },
    {
      "cell_type": "code",
      "metadata": {
        "colab": {
          "base_uri": "https://localhost:8080/"
        },
        "id": "Fp9uLrfAC3q8",
        "outputId": "7da90fcd-07c0-489e-8ad5-5fc6f6182595"
      },
      "source": [
        "range(2, int(11/2)+1)"
      ],
      "execution_count": null,
      "outputs": [
        {
          "output_type": "execute_result",
          "data": {
            "text/plain": [
              "range(2, 6)"
            ]
          },
          "metadata": {
            "tags": []
          },
          "execution_count": 51
        }
      ]
    },
    {
      "cell_type": "code",
      "metadata": {
        "colab": {
          "base_uri": "https://localhost:8080/"
        },
        "id": "7PfFreHUC_JI",
        "outputId": "2326f099-b025-48f2-f74f-665cfd906f69"
      },
      "source": [
        "num = 100\n",
        "if num>1:\n",
        "  for i in range(2,int(num/2)):\n",
        "    if (num % i) == 0:\n",
        "      print(\"not prime\")\n",
        "      break\n",
        "  else:\n",
        "    print(\"prime\")\n",
        "else:\n",
        "  print(\"not prime\")"
      ],
      "execution_count": null,
      "outputs": [
        {
          "output_type": "stream",
          "text": [
            "not prime\n"
          ],
          "name": "stdout"
        }
      ]
    },
    {
      "cell_type": "code",
      "metadata": {
        "id": "hjBbb660EFBW"
      },
      "source": [
        "def prime_numb(num):\n",
        "  if num>1:\n",
        "    for i in range(2,int(num/2)):\n",
        "      if (num % i) == 0:\n",
        "        print(\"not prime\")\n",
        "        break\n",
        "    else:\n",
        "      print(\"prime\")\n",
        "  else:\n",
        "    print(\"not prime\")\n"
      ],
      "execution_count": null,
      "outputs": []
    },
    {
      "cell_type": "code",
      "metadata": {
        "colab": {
          "base_uri": "https://localhost:8080/"
        },
        "id": "srGgx1CxGx-W",
        "outputId": "49ab2120-7b5c-4ab9-d7bc-fc28a747ab2f"
      },
      "source": [
        "prime_numb(99)"
      ],
      "execution_count": null,
      "outputs": [
        {
          "output_type": "stream",
          "text": [
            "not prime\n"
          ],
          "name": "stdout"
        }
      ]
    },
    {
      "cell_type": "code",
      "metadata": {
        "id": "uH-hgwa6JECF",
        "colab": {
          "base_uri": "https://localhost:8080/"
        },
        "outputId": "1e682dc9-6aa5-49a8-a162-d103cc0cd6da"
      },
      "source": [
        "i=1\n",
        "while i<11:\n",
        "  print(i)\n",
        "  i+=1\n",
        "print(\"end\")"
      ],
      "execution_count": 102,
      "outputs": [
        {
          "output_type": "stream",
          "text": [
            "1\n",
            "2\n",
            "3\n",
            "4\n",
            "5\n",
            "6\n",
            "7\n",
            "8\n",
            "9\n",
            "10\n",
            "end\n"
          ],
          "name": "stdout"
        }
      ]
    },
    {
      "cell_type": "code",
      "metadata": {
        "id": "zKC9WH2oNu67",
        "colab": {
          "base_uri": "https://localhost:8080/"
        },
        "outputId": "754c0243-c759-4876-8c8e-ec5c82d5deab"
      },
      "source": [
        "adj = [\"red\", \"big\", \"tasty\"]\n",
        "fruits = [\"apple\", \"banana\", \"cherry\"]\n",
        "\n",
        "for x in adj:\n",
        "  for y in fruits:\n",
        "    print(x, y)"
      ],
      "execution_count": 98,
      "outputs": [
        {
          "output_type": "stream",
          "text": [
            "red apple\n",
            "red banana\n",
            "red cherry\n",
            "big apple\n",
            "big banana\n",
            "big cherry\n",
            "tasty apple\n",
            "tasty banana\n",
            "tasty cherry\n"
          ],
          "name": "stdout"
        }
      ]
    },
    {
      "cell_type": "code",
      "metadata": {
        "id": "uM6v4t_BNwOf",
        "colab": {
          "base_uri": "https://localhost:8080/"
        },
        "outputId": "e7f1b2c7-f38f-4275-e3e8-cfaf8758bcb1"
      },
      "source": [
        "Secret='apple'\n",
        "guess =''\n",
        "\n",
        "while guess!=Secret:\n",
        "  guess=input(\"guess the word---- \")\n",
        "  if guess!=Secret:\n",
        "    print(\"nope!!!!\")\n",
        "print(\"yaay\")\n"
      ],
      "execution_count": 109,
      "outputs": [
        {
          "output_type": "stream",
          "text": [
            "guess the word---- app\n",
            "nope!!!!\n",
            "guess the word---- apple\n",
            "yaay\n"
          ],
          "name": "stdout"
        }
      ]
    },
    {
      "cell_type": "code",
      "metadata": {
        "colab": {
          "base_uri": "https://localhost:8080/"
        },
        "id": "NAylf0-_ZXUj",
        "outputId": "15b2395d-2fa2-4458-c56d-a5400dd71e4a"
      },
      "source": [
        "Secret='apple'\n",
        "guess =''\n",
        "guess_count=0\n",
        "guess_limit=3\n",
        "limit=False\n",
        "\n",
        "while guess!=Secret and not (limit):\n",
        "  if guess_count<guess_limit:\n",
        "    guess=input(\"guess the word---- \")\n",
        "    if guess!=Secret:\n",
        "      print(\"nope!!!!\")\n",
        "    guess_count+=1\n",
        "  else:\n",
        "    limit=True\n",
        "if limit:\n",
        "  print(\"lost\")\n",
        "else:\n",
        "  print(\"yaay\")\n"
      ],
      "execution_count": 115,
      "outputs": [
        {
          "output_type": "stream",
          "text": [
            "guess the word---- tunn\n",
            "nope!!!!\n",
            "guess the word---- apple\n",
            "yaay\n"
          ],
          "name": "stdout"
        }
      ]
    },
    {
      "cell_type": "code",
      "metadata": {
        "id": "Wt1B4C9lbbzj"
      },
      "source": [
        "def pow(num, power):\n",
        "  result=1\n",
        "  for i in range(power):\n",
        "    result=result*num\n",
        "  return result\n"
      ],
      "execution_count": 117,
      "outputs": []
    },
    {
      "cell_type": "code",
      "metadata": {
        "colab": {
          "base_uri": "https://localhost:8080/"
        },
        "id": "05Xz1kl_enX3",
        "outputId": "79f5e8b2-f5d5-45d7-e7b2-72ed2d14e93b"
      },
      "source": [
        "pow(5,9)"
      ],
      "execution_count": 123,
      "outputs": [
        {
          "output_type": "execute_result",
          "data": {
            "text/plain": [
              "1953125"
            ]
          },
          "metadata": {
            "tags": []
          },
          "execution_count": 123
        }
      ]
    },
    {
      "cell_type": "code",
      "metadata": {
        "id": "lD2AYJuVereh"
      },
      "source": [
        ""
      ],
      "execution_count": null,
      "outputs": []
    }
  ]
}