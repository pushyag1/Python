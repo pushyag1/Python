{
  "nbformat": 4,
  "nbformat_minor": 0,
  "metadata": {
    "colab": {
      "name": "Pythonprac3.ipynb",
      "provenance": [],
      "authorship_tag": "ABX9TyM71HlC5Ads8EVc3thW+nDo",
      "include_colab_link": true
    },
    "kernelspec": {
      "name": "python3",
      "display_name": "Python 3"
    },
    "language_info": {
      "name": "python"
    }
  },
  "cells": [
    {
      "cell_type": "markdown",
      "metadata": {
        "id": "view-in-github",
        "colab_type": "text"
      },
      "source": [
        "<a href=\"https://colab.research.google.com/github/pushyag1/Python/blob/main/Pythonprac3.ipynb\" target=\"_parent\"><img src=\"https://colab.research.google.com/assets/colab-badge.svg\" alt=\"Open In Colab\"/></a>"
      ]
    },
    {
      "cell_type": "code",
      "metadata": {
        "id": "gFF9TMwPlJAw"
      },
      "source": [
        "number_grid=[\n",
        "             [1,0,2],\n",
        "             [3,4,5],\n",
        "             [7,8,9],\n",
        "             [0]\n",
        "]"
      ],
      "execution_count": 1,
      "outputs": []
    },
    {
      "cell_type": "code",
      "metadata": {
        "colab": {
          "base_uri": "https://localhost:8080/"
        },
        "id": "Vmin6YzKmCQI",
        "outputId": "3fc74a2c-5b25-4a53-f7ca-7e0d118118a4"
      },
      "source": [
        "print(number_grid[2][0])"
      ],
      "execution_count": 2,
      "outputs": [
        {
          "output_type": "stream",
          "text": [
            "7\n"
          ],
          "name": "stdout"
        }
      ]
    },
    {
      "cell_type": "code",
      "metadata": {
        "colab": {
          "base_uri": "https://localhost:8080/"
        },
        "id": "kr_traBxmFLe",
        "outputId": "e5aa1cbb-5d0c-43ba-de5d-59ee0d959c4a"
      },
      "source": [
        "for i in number_grid:\n",
        "  print(i)"
      ],
      "execution_count": 3,
      "outputs": [
        {
          "output_type": "stream",
          "text": [
            "[1, 0, 2]\n",
            "[3, 4, 5]\n",
            "[7, 8, 9]\n",
            "[0]\n"
          ],
          "name": "stdout"
        }
      ]
    },
    {
      "cell_type": "code",
      "metadata": {
        "colab": {
          "base_uri": "https://localhost:8080/"
        },
        "id": "qw3IA0pmnxTS",
        "outputId": "c2b052bd-cf66-4082-9cc8-367b6f67cbd9"
      },
      "source": [
        "number_grid"
      ],
      "execution_count": 4,
      "outputs": [
        {
          "output_type": "execute_result",
          "data": {
            "text/plain": [
              "[[1, 0, 2], [3, 4, 5], [7, 8, 9], [0]]"
            ]
          },
          "metadata": {
            "tags": []
          },
          "execution_count": 4
        }
      ]
    },
    {
      "cell_type": "code",
      "metadata": {
        "colab": {
          "base_uri": "https://localhost:8080/"
        },
        "id": "FauXtprXn8Hh",
        "outputId": "0cb96620-8ec2-4fa1-f59d-7abd7f9e204c"
      },
      "source": [
        "for row in number_grid:\n",
        "  for col in row:\n",
        "    print(col)"
      ],
      "execution_count": 5,
      "outputs": [
        {
          "output_type": "stream",
          "text": [
            "1\n",
            "0\n",
            "2\n",
            "3\n",
            "4\n",
            "5\n",
            "7\n",
            "8\n",
            "9\n",
            "0\n"
          ],
          "name": "stdout"
        }
      ]
    },
    {
      "cell_type": "code",
      "metadata": {
        "id": "Sgzm2xy_v-Im"
      },
      "source": [
        "name='pushyami'"
      ],
      "execution_count": 6,
      "outputs": []
    },
    {
      "cell_type": "code",
      "metadata": {
        "id": "LqxPW9vdw1hs"
      },
      "source": [
        "translate=''\n",
        "for i in name:\n",
        "  if i in \"AEIOUaeiou\":\n",
        "    translate=translate+'X'\n",
        "  else:\n",
        "    translate= translate+i"
      ],
      "execution_count": 7,
      "outputs": []
    },
    {
      "cell_type": "code",
      "metadata": {
        "colab": {
          "base_uri": "https://localhost:8080/",
          "height": 35
        },
        "id": "AOUqxiBexIIB",
        "outputId": "dd078ed8-5c24-43f4-97ff-0ea6e5a29b52"
      },
      "source": [
        "translate"
      ],
      "execution_count": 8,
      "outputs": [
        {
          "output_type": "execute_result",
          "data": {
            "application/vnd.google.colaboratory.intrinsic+json": {
              "type": "string"
            },
            "text/plain": [
              "'pXshyXmX'"
            ]
          },
          "metadata": {
            "tags": []
          },
          "execution_count": 8
        }
      ]
    },
    {
      "cell_type": "code",
      "metadata": {
        "id": "Q53KHgkfxzfm"
      },
      "source": [
        "vowels=\"AEIOUaeiou\""
      ],
      "execution_count": 9,
      "outputs": []
    },
    {
      "cell_type": "code",
      "metadata": {
        "id": "EAFPmU0BxJoT"
      },
      "source": [
        "def translate_fn(sentence1):  \n",
        "  translate=''\n",
        "  for letter in sentence1:\n",
        "    if letter in vowels:\n",
        "      translate=translate+'-'\n",
        "    else:\n",
        "      translate= translate+letter\n",
        "  return translate"
      ],
      "execution_count": 12,
      "outputs": []
    },
    {
      "cell_type": "code",
      "metadata": {
        "colab": {
          "base_uri": "https://localhost:8080/",
          "height": 35
        },
        "id": "mGbvlYPpxdWD",
        "outputId": "8ac8df76-efdf-47ea-a51d-edaf3335ef95"
      },
      "source": [
        "translate_fn(\"you are beautiful\")"
      ],
      "execution_count": 13,
      "outputs": [
        {
          "output_type": "execute_result",
          "data": {
            "application/vnd.google.colaboratory.intrinsic+json": {
              "type": "string"
            },
            "text/plain": [
              "'y-- -r- b---t-f-l'"
            ]
          },
          "metadata": {
            "tags": []
          },
          "execution_count": 13
        }
      ]
    },
    {
      "cell_type": "code",
      "metadata": {
        "colab": {
          "base_uri": "https://localhost:8080/",
          "height": 52
        },
        "id": "D4VJP8V6xktw",
        "outputId": "79e73f41-7aae-4a4c-c61d-79608bb01864"
      },
      "source": [
        "translate_fn(input(\"type a sentence: \"))"
      ],
      "execution_count": 14,
      "outputs": [
        {
          "output_type": "stream",
          "text": [
            "type a sentence: you are beautifUl\n"
          ],
          "name": "stdout"
        },
        {
          "output_type": "execute_result",
          "data": {
            "application/vnd.google.colaboratory.intrinsic+json": {
              "type": "string"
            },
            "text/plain": [
              "'y-- -r- b---t-f-l'"
            ]
          },
          "metadata": {
            "tags": []
          },
          "execution_count": 14
        }
      ]
    },
    {
      "cell_type": "code",
      "metadata": {
        "colab": {
          "base_uri": "https://localhost:8080/"
        },
        "id": "1-lCIJ_L05Ks",
        "outputId": "38b23d7c-8ccf-4ac1-c4fe-80d350567ca3"
      },
      "source": [
        "try:\n",
        "  answer=10/0\n",
        "  number=int(input(\"number : \"))\n",
        "  print(number)\n",
        "except ValueError as err:\n",
        "  print(err)\n",
        "except ZeroDivisionError as err:\n",
        "  print(err)"
      ],
      "execution_count": 19,
      "outputs": [
        {
          "output_type": "stream",
          "text": [
            "division by zero\n"
          ],
          "name": "stdout"
        }
      ]
    },
    {
      "cell_type": "code",
      "metadata": {
        "id": "fSl3wHdt4Oqe"
      },
      "source": [
        ""
      ],
      "execution_count": 17,
      "outputs": []
    },
    {
      "cell_type": "code",
      "metadata": {
        "id": "Vll9Fz304enS"
      },
      "source": [
        ""
      ],
      "execution_count": null,
      "outputs": []
    }
  ]
}