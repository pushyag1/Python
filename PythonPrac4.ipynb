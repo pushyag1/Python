{
  "nbformat": 4,
  "nbformat_minor": 0,
  "metadata": {
    "colab": {
      "name": "PythonPrac4.ipynb",
      "provenance": [],
      "authorship_tag": "ABX9TyPa7IfzZyUISFSO6kX7gsXb",
      "include_colab_link": true
    },
    "kernelspec": {
      "name": "python3",
      "display_name": "Python 3"
    },
    "language_info": {
      "name": "python"
    }
  },
  "cells": [
    {
      "cell_type": "markdown",
      "metadata": {
        "id": "view-in-github",
        "colab_type": "text"
      },
      "source": [
        "<a href=\"https://colab.research.google.com/github/pushyag1/Python/blob/main/PythonPrac4.ipynb\" target=\"_parent\"><img src=\"https://colab.research.google.com/assets/colab-badge.svg\" alt=\"Open In Colab\"/></a>"
      ]
    },
    {
      "cell_type": "code",
      "metadata": {
        "id": "BqNKp_xpUjnm"
      },
      "source": [
        "class Question:\n",
        "     def __init__(self, prompt, answer):\n",
        "          self.prompt = prompt\n",
        "          self.answer = answer\n"
      ],
      "execution_count": 1,
      "outputs": []
    },
    {
      "cell_type": "code",
      "metadata": {
        "colab": {
          "base_uri": "https://localhost:8080/"
        },
        "id": "JPWE2nWKUnYS",
        "outputId": "f7d778fe-08fe-4c9a-d099-3113177f3466"
      },
      "source": [
        "question_prompts = [\n",
        "     \"What color are apples?\\n(a) Red/Green\\n(b)Orange\",\n",
        "     \"What color are bananas?\\n(a) Red/Green\\n(b)Yellow\",\n",
        "]\n",
        "\n",
        "questions = [\n",
        "     Question(question_prompts[0], \"a\"),\n",
        "     Question(question_prompts[1], \"b\"),\n",
        "]\n",
        "\n",
        "def run_quiz(questions):\n",
        "     score = 0\n",
        "     for question in questions:\n",
        "          answer = input(question.prompt)\n",
        "          if answer == question.answer:\n",
        "               score += 1\n",
        "     print(\"you got\", score, \"out of\", len(questions))\n",
        "\n",
        "run_quiz(questions)"
      ],
      "execution_count": 2,
      "outputs": [
        {
          "output_type": "stream",
          "text": [
            "What color are apples?\n",
            "(a) Red/Green\n",
            "(b)Orangea\n",
            "What color are bananas?\n",
            "(a) Red/Green\n",
            "(b)Yellowb\n",
            "you got 2 out of 2\n"
          ],
          "name": "stdout"
        }
      ]
    },
    {
      "cell_type": "code",
      "metadata": {
        "colab": {
          "base_uri": "https://localhost:8080/"
        },
        "id": "2EXfz_vjUr9-",
        "outputId": "e8273b75-8e59-4179-b6ff-ca899374a34d"
      },
      "source": [
        "\n",
        "class Chef:\n",
        "   def make_chicken(self):\n",
        "       print(\"The chef makes chicken\")\n",
        "\n",
        "   def make_salad(self):\n",
        "       print(\"The chef makes salad\")\n",
        "\n",
        "   def make_special_dish(self):\n",
        "       print(\"The chef makes bbq ribs\")\n",
        "\n",
        "class ItalianChef(Chef):\n",
        "   def make_pasta(self):\n",
        "       print(\"The chef makes pasta\")\n",
        "\n",
        "   def make_special_dish(self):\n",
        "       print(\"The chef makes chicken parm\")\n",
        "\n",
        "\n",
        "myChef = Chef()\n",
        "myChef.make_chicken()\n",
        "\n",
        "myItalianChef = ItalianChef()\n",
        "myItalianChef.make_chicken()\n"
      ],
      "execution_count": 3,
      "outputs": [
        {
          "output_type": "stream",
          "text": [
            "The chef makes chicken\n",
            "The chef makes chicken\n"
          ],
          "name": "stdout"
        }
      ]
    },
    {
      "cell_type": "code",
      "metadata": {
        "id": "c44d2xDmU8Af"
      },
      "source": [
        "\n",
        "class Student:\n",
        "    def __init__(self, name, major, gpa):\n",
        "        self.name = name\n",
        "        self.major = major\n",
        "        self.gpa = gpa\n",
        "\n",
        "    def has_honors(self):\n",
        "         if self.gpa >= 3.5:\n",
        "               return True\n",
        "         return False\n"
      ],
      "execution_count": 8,
      "outputs": []
    },
    {
      "cell_type": "code",
      "metadata": {
        "colab": {
          "base_uri": "https://localhost:8080/"
        },
        "id": "WJRmfWmkVEMu",
        "outputId": "052ad2ee-342a-492b-acb3-22f017f3f216"
      },
      "source": [
        "Student1=Student(\"Pushya\",\"DataScience\",3.8)\n",
        "Student2=Student(\"Tunny\",\"DataScience\",3.1)\n",
        "print(Student1.name)\n",
        "print(Student2.gpa)\n",
        "print(Student2.has_honors())"
      ],
      "execution_count": 15,
      "outputs": [
        {
          "output_type": "stream",
          "text": [
            "Pushya\n",
            "3.1\n",
            "False\n"
          ],
          "name": "stdout"
        }
      ]
    },
    {
      "cell_type": "code",
      "metadata": {
        "id": "nQRy8YI3VkJL"
      },
      "source": [
        ""
      ],
      "execution_count": null,
      "outputs": []
    }
  ]
}