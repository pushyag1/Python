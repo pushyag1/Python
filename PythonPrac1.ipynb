{
  "nbformat": 4,
  "nbformat_minor": 0,
  "metadata": {
    "colab": {
      "name": "PythonPrac1.ipynb",
      "provenance": [],
      "authorship_tag": "ABX9TyOJEm0yFyTmwSvGSzX0HF0D",
      "include_colab_link": true
    },
    "kernelspec": {
      "name": "python3",
      "display_name": "Python 3"
    },
    "language_info": {
      "name": "python"
    }
  },
  "cells": [
    {
      "cell_type": "markdown",
      "metadata": {
        "id": "view-in-github",
        "colab_type": "text"
      },
      "source": [
        "<a href=\"https://colab.research.google.com/github/pushyag1/Python/blob/main/PythonPrac1.ipynb\" target=\"_parent\"><img src=\"https://colab.research.google.com/assets/colab-badge.svg\" alt=\"Open In Colab\"/></a>"
      ]
    },
    {
      "cell_type": "code",
      "metadata": {
        "colab": {
          "base_uri": "https://localhost:8080/"
        },
        "id": "0Orrs9x22hZx",
        "outputId": "9caf5e0c-f0ae-4031-f27d-b4d4d77fb817"
      },
      "source": [
        "print(\"Pushya\")"
      ],
      "execution_count": 2,
      "outputs": [
        {
          "output_type": "stream",
          "text": [
            "Pushya\n"
          ],
          "name": "stdout"
        }
      ]
    },
    {
      "cell_type": "code",
      "metadata": {
        "id": "3d136gUgRZhJ"
      },
      "source": [
        "#Given a math string, calculate the value of 5+6*7"
      ],
      "execution_count": 7,
      "outputs": []
    },
    {
      "cell_type": "code",
      "metadata": {
        "colab": {
          "base_uri": "https://localhost:8080/"
        },
        "id": "Wts4Z7hWSCa-",
        "outputId": "3a25f859-36d0-4f2f-da12-90007d8ca4d1"
      },
      "source": [
        "math=\"5+6*7\"\n",
        "print(math)"
      ],
      "execution_count": 9,
      "outputs": [
        {
          "output_type": "stream",
          "text": [
            "5+6*7\n"
          ],
          "name": "stdout"
        }
      ]
    },
    {
      "cell_type": "code",
      "metadata": {
        "colab": {
          "base_uri": "https://localhost:8080/"
        },
        "id": "euOs4H5dWcUj",
        "outputId": "7d898a6b-eeed-4155-c4aa-96a179f33b32"
      },
      "source": [
        "print(int(math[0])+int(math[2])*int(math[4]))"
      ],
      "execution_count": 12,
      "outputs": [
        {
          "output_type": "stream",
          "text": [
            "47\n"
          ],
          "name": "stdout"
        }
      ]
    },
    {
      "cell_type": "code",
      "metadata": {
        "colab": {
          "base_uri": "https://localhost:8080/"
        },
        "id": "1EKWvtibWmsV",
        "outputId": "ebbad66e-8590-457c-9f37-7d4f17bae1e8"
      },
      "source": [
        "name = \"pushya\"\n",
        "print(name.index('y'))"
      ],
      "execution_count": 15,
      "outputs": [
        {
          "output_type": "stream",
          "text": [
            "4\n"
          ],
          "name": "stdout"
        }
      ]
    },
    {
      "cell_type": "code",
      "metadata": {
        "colab": {
          "base_uri": "https://localhost:8080/"
        },
        "id": "b8cvNaKGawWu",
        "outputId": "24825a13-8de6-40a3-a8d6-43ff1ed5a1a2"
      },
      "source": [
        "print(name.replace('p','P'))"
      ],
      "execution_count": 17,
      "outputs": [
        {
          "output_type": "stream",
          "text": [
            "Pushya\n"
          ],
          "name": "stdout"
        }
      ]
    },
    {
      "cell_type": "code",
      "metadata": {
        "id": "33soWUana6jN"
      },
      "source": [
        "name = name.replace(\"a\",\"ami\")"
      ],
      "execution_count": 19,
      "outputs": []
    },
    {
      "cell_type": "code",
      "metadata": {
        "colab": {
          "base_uri": "https://localhost:8080/",
          "height": 35
        },
        "id": "yreKq7Uda9yh",
        "outputId": "15f8b5e5-b0a8-4916-b6c7-f5993d4eccd7"
      },
      "source": [
        "name"
      ],
      "execution_count": 20,
      "outputs": [
        {
          "output_type": "execute_result",
          "data": {
            "application/vnd.google.colaboratory.intrinsic+json": {
              "type": "string"
            },
            "text/plain": [
              "'pushyami'"
            ]
          },
          "metadata": {
            "tags": []
          },
          "execution_count": 20
        }
      ]
    },
    {
      "cell_type": "code",
      "metadata": {
        "colab": {
          "base_uri": "https://localhost:8080/"
        },
        "id": "HAtoBCgTbH0m",
        "outputId": "61e161dd-93b0-4d3b-b967-2d8f89c43f84"
      },
      "source": [
        "name = input(\"please enter your name\")\n",
        "date_of_birth = input(\"your date of birth in DD/MM/YYY format\")"
      ],
      "execution_count": 101,
      "outputs": [
        {
          "output_type": "stream",
          "text": [
            "please enter your namePushya\n",
            "your date of birth in DD/MM/YYY format1995-05-07\n"
          ],
          "name": "stdout"
        }
      ]
    },
    {
      "cell_type": "code",
      "metadata": {
        "id": "UNesQa7rintP"
      },
      "source": [
        "from datetime import datetime\n",
        "date_of_birth=datetime.strptime(date_of_birth , '%Y-%m-%d').date()\n",
        "days_in_year = 365.2425\n",
        "age = int((date.today() - date_of_birth).days / days_in_year)"
      ],
      "execution_count": 102,
      "outputs": []
    },
    {
      "cell_type": "code",
      "metadata": {
        "id": "4bllOQnVmx7O"
      },
      "source": [
        "age = str(age)"
      ],
      "execution_count": 109,
      "outputs": []
    },
    {
      "cell_type": "code",
      "metadata": {
        "colab": {
          "base_uri": "https://localhost:8080/"
        },
        "id": "iRoXCqRykcDu",
        "outputId": "716bd60e-ec4b-432c-e55f-bbcfd9890b21"
      },
      "source": [
        "print(\"Hi \"+name+\" you are \"+age+\" old\")"
      ],
      "execution_count": 111,
      "outputs": [
        {
          "output_type": "stream",
          "text": [
            "Hi Pushya you are 26 old\n"
          ],
          "name": "stdout"
        }
      ]
    },
    {
      "cell_type": "code",
      "metadata": {
        "id": "2uSKGiQijBeg"
      },
      "source": [
        "from math import *"
      ],
      "execution_count": 112,
      "outputs": []
    },
    {
      "cell_type": "code",
      "metadata": {
        "colab": {
          "base_uri": "https://localhost:8080/"
        },
        "id": "j8M8CXLqnn73",
        "outputId": "884b09d9-501b-4b51-91a4-38036711598a"
      },
      "source": [
        "floor(3.7)"
      ],
      "execution_count": 113,
      "outputs": [
        {
          "output_type": "execute_result",
          "data": {
            "text/plain": [
              "3"
            ]
          },
          "metadata": {
            "tags": []
          },
          "execution_count": 113
        }
      ]
    },
    {
      "cell_type": "code",
      "metadata": {
        "colab": {
          "base_uri": "https://localhost:8080/"
        },
        "id": "iCR9biZ4np6v",
        "outputId": "8e4f38c6-072f-4d57-fef5-3450b154c995"
      },
      "source": [
        "ceil(3.5)"
      ],
      "execution_count": 114,
      "outputs": [
        {
          "output_type": "execute_result",
          "data": {
            "text/plain": [
              "4"
            ]
          },
          "metadata": {
            "tags": []
          },
          "execution_count": 114
        }
      ]
    },
    {
      "cell_type": "code",
      "metadata": {
        "id": "dyG4cKVRnrva"
      },
      "source": [
        ""
      ],
      "execution_count": null,
      "outputs": []
    }
  ]
}