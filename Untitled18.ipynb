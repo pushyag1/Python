{
  "nbformat": 4,
  "nbformat_minor": 0,
  "metadata": {
    "colab": {
      "name": "Untitled18.ipynb",
      "provenance": [],
      "authorship_tag": "ABX9TyOjpRi5PmESPVV5SsoKnGnh",
      "include_colab_link": true
    },
    "kernelspec": {
      "name": "python3",
      "display_name": "Python 3"
    },
    "language_info": {
      "name": "python"
    }
  },
  "cells": [
    {
      "cell_type": "markdown",
      "metadata": {
        "id": "view-in-github",
        "colab_type": "text"
      },
      "source": [
        "<a href=\"https://colab.research.google.com/github/pushyag1/Python/blob/main/Untitled18.ipynb\" target=\"_parent\"><img src=\"https://colab.research.google.com/assets/colab-badge.svg\" alt=\"Open In Colab\"/></a>"
      ]
    },
    {
      "cell_type": "code",
      "metadata": {
        "id": "l3HDYXt8E56X"
      },
      "source": [
        "num=[1,2,3,4]\n",
        "target=7"
      ],
      "execution_count": 21,
      "outputs": []
    },
    {
      "cell_type": "code",
      "metadata": {
        "colab": {
          "base_uri": "https://localhost:8080/"
        },
        "id": "y3g46IUqGODr",
        "outputId": "f4723e0b-b013-4ad0-f630-496cee2a0523"
      },
      "source": [
        "for i in range(len(num)):\n",
        "  for j in range(i+1, len(nums)):\n",
        "    if nums[j]==target-nums[i]:\n",
        "      print(num[i],num[j])"
      ],
      "execution_count": 32,
      "outputs": [
        {
          "output_type": "stream",
          "text": [
            "3 4\n"
          ],
          "name": "stdout"
        }
      ]
    },
    {
      "cell_type": "code",
      "metadata": {
        "id": "DQc1xzv4Hm2o"
      },
      "source": [
        "class summ(object):\n",
        "  def fun(numb:list, target:int):\n",
        "    #type(numb)=[]\n",
        "    for i in range(len(num)):\n",
        "      for j in range(i+1, len(nums)):\n",
        "        if nums[j]==target-nums[i]:\n",
        "          print(num[i],num[j])\n",
        "          #return(i,j)\n",
        "          return(numb[i],numb[j])\n"
      ],
      "execution_count": 52,
      "outputs": []
    },
    {
      "cell_type": "code",
      "metadata": {
        "id": "_hZvHzqPIO9P"
      },
      "source": [
        "nos=[1,2,3,4]"
      ],
      "execution_count": 53,
      "outputs": []
    },
    {
      "cell_type": "code",
      "metadata": {
        "colab": {
          "base_uri": "https://localhost:8080/"
        },
        "id": "8HEoF32HItvq",
        "outputId": "f0c3244d-400d-45b9-a1d9-b2506d1fb8f3"
      },
      "source": [
        "summ.fun(nos,5)"
      ],
      "execution_count": 54,
      "outputs": [
        {
          "output_type": "stream",
          "text": [
            "1 4\n"
          ],
          "name": "stdout"
        },
        {
          "output_type": "execute_result",
          "data": {
            "text/plain": [
              "(1, 4)"
            ]
          },
          "metadata": {
            "tags": []
          },
          "execution_count": 54
        }
      ]
    },
    {
      "cell_type": "code",
      "metadata": {
        "id": "c7UyaNfTIwB1"
      },
      "source": [
        "inte='121'\n",
        "integ=''"
      ],
      "execution_count": 67,
      "outputs": []
    },
    {
      "cell_type": "code",
      "metadata": {
        "colab": {
          "base_uri": "https://localhost:8080/"
        },
        "id": "qWZOyvLDJP2p",
        "outputId": "891a4440-0fbf-4ecb-d1bf-cc88f42008b5"
      },
      "source": [
        "for i in inte:\n",
        "  integ=i+integ\n",
        "  if inte==integ:\n",
        "    print(\"true\")\n",
        "    break\n",
        "else:\n",
        "  print(\"no\")\n"
      ],
      "execution_count": 68,
      "outputs": [
        {
          "output_type": "stream",
          "text": [
            "true\n"
          ],
          "name": "stdout"
        }
      ]
    },
    {
      "cell_type": "code",
      "metadata": {
        "colab": {
          "base_uri": "https://localhost:8080/",
          "height": 35
        },
        "id": "0VP76fUgKVG6",
        "outputId": "2de92388-8e66-400d-c5a9-7c70587d89ad"
      },
      "source": [
        "integ"
      ],
      "execution_count": 63,
      "outputs": [
        {
          "output_type": "execute_result",
          "data": {
            "application/vnd.google.colaboratory.intrinsic+json": {
              "type": "string"
            },
            "text/plain": [
              "'4321'"
            ]
          },
          "metadata": {
            "tags": []
          },
          "execution_count": 63
        }
      ]
    },
    {
      "cell_type": "code",
      "metadata": {
        "id": "9YnVIiLaKV3b"
      },
      "source": [
        "string=[\"apple\",\"appy\",\"apol\"]"
      ],
      "execution_count": 110,
      "outputs": []
    },
    {
      "cell_type": "code",
      "metadata": {
        "colab": {
          "base_uri": "https://localhost:8080/"
        },
        "id": "6m3o8tl-QBYm",
        "outputId": "630cb787-a8bf-4d36-b401-d5083a722a68"
      },
      "source": [
        "len(string[0])"
      ],
      "execution_count": 96,
      "outputs": [
        {
          "output_type": "execute_result",
          "data": {
            "text/plain": [
              "5"
            ]
          },
          "metadata": {
            "tags": []
          },
          "execution_count": 96
        }
      ]
    },
    {
      "cell_type": "code",
      "metadata": {
        "colab": {
          "base_uri": "https://localhost:8080/",
          "height": 35
        },
        "id": "80OQ8N8PMeaO",
        "outputId": "9495e2e4-2fc3-462f-80d9-ccda50aa5a00"
      },
      "source": [
        "result=''\n",
        "pref=string[0]\n",
        "pref"
      ],
      "execution_count": 111,
      "outputs": [
        {
          "output_type": "execute_result",
          "data": {
            "application/vnd.google.colaboratory.intrinsic+json": {
              "type": "string"
            },
            "text/plain": [
              "'apple'"
            ]
          },
          "metadata": {
            "tags": []
          },
          "execution_count": 111
        }
      ]
    },
    {
      "cell_type": "code",
      "metadata": {
        "id": "CK-H2IQuMugq"
      },
      "source": [
        "for s in string[1:]:\n",
        "  while s[:len(pref)]!=pref:\n",
        "    pref=pref[:len(pref)-1]\n",
        "result=pref\n",
        "\n"
      ],
      "execution_count": 112,
      "outputs": []
    },
    {
      "cell_type": "code",
      "metadata": {
        "colab": {
          "base_uri": "https://localhost:8080/",
          "height": 35
        },
        "id": "x810S5WjPVs6",
        "outputId": "ccaa0682-37c2-458f-abe2-ca623784c5fb"
      },
      "source": [
        "result"
      ],
      "execution_count": 113,
      "outputs": [
        {
          "output_type": "execute_result",
          "data": {
            "application/vnd.google.colaboratory.intrinsic+json": {
              "type": "string"
            },
            "text/plain": [
              "'ap'"
            ]
          },
          "metadata": {
            "tags": []
          },
          "execution_count": 113
        }
      ]
    },
    {
      "cell_type": "code",
      "metadata": {
        "colab": {
          "base_uri": "https://localhost:8080/"
        },
        "id": "Cj4SIwq2NIeF",
        "outputId": "ecf75eae-580f-4de5-85ff-7c904e52b5fe"
      },
      "source": [
        "# Python code to demonstrate\n",
        "# to find common prefix\n",
        "# from set of strings\n",
        " \n",
        "# Initialising string\n",
        "ini_strlist = ['akshat', 'akash', 'akshay', 'zashita']\n",
        " \n",
        "# Finding common prefix using Naive Approach\n",
        "res = ''\n",
        "prefix = ini_strlist[0]\n",
        " \n",
        "for string in ini_strlist[1:]:\n",
        "    while string[:len(prefix)] != prefix:\n",
        "        prefix = prefix[:len(prefix)-1]\n",
        "    # if not prefix:\n",
        "    #     break\n",
        "res = prefix\n",
        " \n",
        "# Printing result\n",
        "print(\"Resultant prefix\", str(res))"
      ],
      "execution_count": 109,
      "outputs": [
        {
          "output_type": "stream",
          "text": [
            "Resultant prefix \n"
          ],
          "name": "stdout"
        }
      ]
    },
    {
      "cell_type": "code",
      "metadata": {
        "colab": {
          "base_uri": "https://localhost:8080/"
        },
        "id": "vqfDdwy8PYyh",
        "outputId": "c5d4343b-5175-4eae-c691-804355d7f157"
      },
      "source": [
        "for string in ini_strlist[1:]:\n",
        "  print(string[:])"
      ],
      "execution_count": 104,
      "outputs": [
        {
          "output_type": "stream",
          "text": [
            "akas\n",
            "aksh\n",
            "aksh\n"
          ],
          "name": "stdout"
        }
      ]
    },
    {
      "cell_type": "code",
      "metadata": {
        "id": "KRMrb9nfQdkz"
      },
      "source": [
        "ini_strlist = ['akshat', 'akash', 'akshay', 'akshita']\n",
        " \n",
        "# Finding common prefix using Naive Approach\n",
        "res = ''\n",
        "prefix = ini_strlist[0]"
      ],
      "execution_count": 98,
      "outputs": []
    },
    {
      "cell_type": "code",
      "metadata": {
        "colab": {
          "base_uri": "https://localhost:8080/"
        },
        "id": "rmSYTG4yQjuN",
        "outputId": "6ee9da1c-766a-4b9f-a0e8-244576add00a"
      },
      "source": [
        "len(prefix)"
      ],
      "execution_count": 100,
      "outputs": [
        {
          "output_type": "execute_result",
          "data": {
            "text/plain": [
              "6"
            ]
          },
          "metadata": {
            "tags": []
          },
          "execution_count": 100
        }
      ]
    },
    {
      "cell_type": "code",
      "metadata": {
        "id": "4yk_5kSpRXHr"
      },
      "source": [
        ""
      ],
      "execution_count": null,
      "outputs": []
    }
  ]
}