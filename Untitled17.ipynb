{
  "nbformat": 4,
  "nbformat_minor": 0,
  "metadata": {
    "colab": {
      "name": "Untitled17.ipynb",
      "provenance": [],
      "authorship_tag": "ABX9TyO1LLqDnQt/711Py3lpYnB5",
      "include_colab_link": true
    },
    "kernelspec": {
      "name": "python3",
      "display_name": "Python 3"
    },
    "language_info": {
      "name": "python"
    }
  },
  "cells": [
    {
      "cell_type": "markdown",
      "metadata": {
        "id": "view-in-github",
        "colab_type": "text"
      },
      "source": [
        "<a href=\"https://colab.research.google.com/github/pushyag1/Python/blob/main/Untitled17.ipynb\" target=\"_parent\"><img src=\"https://colab.research.google.com/assets/colab-badge.svg\" alt=\"Open In Colab\"/></a>"
      ]
    },
    {
      "cell_type": "code",
      "metadata": {
        "id": "07jFRqLn6Kah"
      },
      "source": [
        "list1=[1,2,3,4,5,6]\n",
        "result=[]"
      ],
      "execution_count": 9,
      "outputs": []
    },
    {
      "cell_type": "code",
      "metadata": {
        "id": "OmW6pAS86Ob9"
      },
      "source": [
        "for i in range(1,20):\n",
        "  if i%2==0 and i%3==0:\n",
        "    print(\"BF\")\n",
        "  elif i%2==0:\n",
        "    print(\"V\")\n",
        "  elif i%3==0:\n",
        "    print(\"B\")\n",
        "  else:\n",
        "    print(i)\n"
      ],
      "execution_count": null,
      "outputs": []
    },
    {
      "cell_type": "code",
      "metadata": {
        "id": "Zf4uO-ju65z-"
      },
      "source": [
        "nums=[1,2,3,4]\n",
        "target = 6"
      ],
      "execution_count": 19,
      "outputs": []
    },
    {
      "cell_type": "code",
      "metadata": {
        "colab": {
          "base_uri": "https://localhost:8080/"
        },
        "id": "GnOKcZlWOnjD",
        "outputId": "32a2f120-7659-4374-f7fb-fe5e8c9f4129"
      },
      "source": [
        "for i in range(0,len(nums)):\n",
        "  for j in range(i + 1, len(nums)):\n",
        "    if nums[j] == target - nums[i]:\n",
        "      print(nums[i],nums[j])"
      ],
      "execution_count": 20,
      "outputs": [
        {
          "output_type": "stream",
          "text": [
            "2 4\n"
          ],
          "name": "stdout"
        }
      ]
    },
    {
      "cell_type": "code",
      "metadata": {
        "id": "QDAXwNp_O6AL"
      },
      "source": [
        "string1=\"poopq\""
      ],
      "execution_count": 27,
      "outputs": []
    },
    {
      "cell_type": "code",
      "metadata": {
        "id": "d5aEi36UPr_r"
      },
      "source": [
        "def palindrome(string_dummy):\n",
        "  for i in string_dummy:\n",
        "    if string_dummy== string_dummy[::-1]:\n",
        "      print(\"palindrome\")\n",
        "      break\n",
        "  else:\n",
        "    print(\"noo\")"
      ],
      "execution_count": 33,
      "outputs": []
    },
    {
      "cell_type": "code",
      "metadata": {
        "colab": {
          "base_uri": "https://localhost:8080/"
        },
        "id": "r2jusUttP1jo",
        "outputId": "720fb449-95a5-4f7d-aa48-22697a07e82d"
      },
      "source": [
        "palindrome(\"poopsdhfg\")"
      ],
      "execution_count": 35,
      "outputs": [
        {
          "output_type": "stream",
          "text": [
            "noo\n"
          ],
          "name": "stdout"
        }
      ]
    },
    {
      "cell_type": "code",
      "metadata": {
        "colab": {
          "base_uri": "https://localhost:8080/",
          "height": 35
        },
        "id": "UkJ298yrQcu6",
        "outputId": "950276fb-cb8a-4a4f-d67b-e71cc38f5251"
      },
      "source": [
        "def reverse(text):\n",
        "    rev_text = \"\"\n",
        "    for char in text:\n",
        "        rev_text = char + rev_text\n",
        "    return rev_text\n",
        "\n",
        "reverse(\"hello\")"
      ],
      "execution_count": 36,
      "outputs": [
        {
          "output_type": "execute_result",
          "data": {
            "application/vnd.google.colaboratory.intrinsic+json": {
              "type": "string"
            },
            "text/plain": [
              "'olleh'"
            ]
          },
          "metadata": {
            "tags": []
          },
          "execution_count": 36
        }
      ]
    },
    {
      "cell_type": "code",
      "metadata": {
        "id": "3F3t2NRfRX3x"
      },
      "source": [
        "text=\"pushya\""
      ],
      "execution_count": 37,
      "outputs": []
    },
    {
      "cell_type": "code",
      "metadata": {
        "id": "RQ1HQgcHRL-Z"
      },
      "source": [
        "rev_text = \"\"\n",
        "for char in text:\n",
        "  rev_text = char + rev_text\n",
        "  "
      ],
      "execution_count": 38,
      "outputs": []
    },
    {
      "cell_type": "code",
      "metadata": {
        "colab": {
          "base_uri": "https://localhost:8080/",
          "height": 35
        },
        "id": "5kYgscnSRcsv",
        "outputId": "a28faac8-c3ed-4e7a-db0f-3076041640d8"
      },
      "source": [
        "rev_text"
      ],
      "execution_count": 39,
      "outputs": [
        {
          "output_type": "execute_result",
          "data": {
            "application/vnd.google.colaboratory.intrinsic+json": {
              "type": "string"
            },
            "text/plain": [
              "'ayhsup'"
            ]
          },
          "metadata": {
            "tags": []
          },
          "execution_count": 39
        }
      ]
    },
    {
      "cell_type": "code",
      "metadata": {
        "id": "_-1X9tdaRdjA"
      },
      "source": [
        ""
      ],
      "execution_count": null,
      "outputs": []
    }
  ]
}